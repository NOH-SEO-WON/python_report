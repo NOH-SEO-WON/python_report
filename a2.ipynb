{
  "nbformat": 4,
  "nbformat_minor": 0,
  "metadata": {
    "colab": {
      "name": "a2.ipynb",
      "provenance": [],
      "collapsed_sections": [],
      "authorship_tag": "ABX9TyMRnGx86Pj9489kCYys0BGC",
      "include_colab_link": true
    },
    "kernelspec": {
      "name": "python3",
      "display_name": "Python 3"
    },
    "language_info": {
      "name": "python"
    }
  },
  "cells": [
    {
      "cell_type": "markdown",
      "metadata": {
        "id": "view-in-github",
        "colab_type": "text"
      },
      "source": [
        "<a href=\"https://colab.research.google.com/github/NOH-SEO-WON/python_report/blob/main/a2.ipynb\" target=\"_parent\"><img src=\"https://colab.research.google.com/assets/colab-badge.svg\" alt=\"Open In Colab\"/></a>"
      ]
    },
    {
      "cell_type": "code",
      "execution_count": null,
      "metadata": {
        "id": "HEefVH2UdOP_",
        "colab": {
          "base_uri": "https://localhost:8080/"
        },
        "outputId": "745f3144-893d-4223-dc1b-9ac8f61bb0b3"
      },
      "outputs": [
        {
          "output_type": "stream",
          "name": "stdout",
          "text": [
            "Enter grade:  2\n",
            "Enter grade:  3\n",
            "Enter grade:  4\n",
            "Enter grade:  5\n",
            "Enter grade:  6\n",
            "Enter grade:  7\n",
            "Enter grade:  8\n",
            "Enter grade:  9\n",
            "Enter grade:  10\n",
            "Enter grade:  11\n",
            "6.5\n"
          ]
        }
      ],
      "source": [
        "total = 0\n",
        "counter = 1\n",
        "while counter <= 10:\n",
        "    grade = int(input (\"Enter grade:  \"))\n",
        "    total = grade + total\n",
        "    counter = counter + 1\n",
        "average = total / 10\n",
        "print(average)"
      ]
    },
    {
      "cell_type": "code",
      "source": [
        "print(\"3개의 값을 입력하시오\")\n",
        "x = int(input(\"Enter the x:  \"))\n",
        "y = int(input(\"Enter the y:  \"))\n",
        "z = int(input(\"Enter the z:  \"))\n",
        "x = x + 1\n",
        "y = y + 1\n",
        "z = z + 1\n",
        "print(\"변경된 값 : \",x, y, z)"
      ],
      "metadata": {
        "id": "9wTIxrg_eWZt",
        "colab": {
          "base_uri": "https://localhost:8080/"
        },
        "outputId": "bc85076a-9abf-47c0-e5c3-aca1d8d18354"
      },
      "execution_count": null,
      "outputs": [
        {
          "output_type": "stream",
          "name": "stdout",
          "text": [
            "3개의 값을 입력하시오\n",
            "Enter the x:  5\n",
            "Enter the y:  4\n",
            "Enter the z:  3\n",
            "변경된 값 :  6 5 4\n"
          ]
        }
      ]
    },
    {
      "cell_type": "code",
      "source": [
        "a = 10\n",
        "b = 8750\n",
        "c = a * b\n",
        "print(c)"
      ],
      "metadata": {
        "id": "aw_EvNChjK3T",
        "colab": {
          "base_uri": "https://localhost:8080/"
        },
        "outputId": "674ee2e1-7848-499e-967f-ee86c4974512"
      },
      "execution_count": null,
      "outputs": [
        {
          "output_type": "stream",
          "name": "stdout",
          "text": [
            "87500\n"
          ]
        }
      ]
    },
    {
      "cell_type": "code",
      "source": [
        "pay_rate = 8750\n",
        "hours_worked = int(input(\"일을 한 전체 시간입력하세요!: \" ))\n",
        "monthly_pay = hours_worked * pay_rate\n",
        "print(monthly_pay)"
      ],
      "metadata": {
        "id": "TGolmQPnjr0U",
        "colab": {
          "base_uri": "https://localhost:8080/"
        },
        "outputId": "78ed8e8a-ab84-43c5-ef42-adce591cfb72"
      },
      "execution_count": null,
      "outputs": [
        {
          "output_type": "stream",
          "name": "stdout",
          "text": [
            "일을 한 전체 시간입력하세요!: 6\n",
            "52500\n"
          ]
        }
      ]
    },
    {
      "cell_type": "code",
      "source": [
        "won = 100000\n",
        "usd = won * 1130\n",
        "print(usd)"
      ],
      "metadata": {
        "id": "LhaQ8zJckyEm",
        "colab": {
          "base_uri": "https://localhost:8080/"
        },
        "outputId": "669b0fa7-a97b-4b83-f357-db4c65f8c5c3"
      },
      "execution_count": null,
      "outputs": [
        {
          "output_type": "stream",
          "name": "stdout",
          "text": [
            "113000000\n"
          ]
        }
      ]
    },
    {
      "cell_type": "code",
      "source": [
        "exchange_rate = int(input(\"현재 환율입력: \"))\n",
        "won = 100000\n",
        "usd = won * exchange_rate\n",
        "print(usd)"
      ],
      "metadata": {
        "id": "KUQEqBBHkyzj",
        "colab": {
          "base_uri": "https://localhost:8080/"
        },
        "outputId": "a9063aaa-b2db-4b8b-92a5-ec5033397c1d"
      },
      "execution_count": null,
      "outputs": [
        {
          "output_type": "stream",
          "name": "stdout",
          "text": [
            "현재 환율입력: 12\n",
            "1200000\n"
          ]
        }
      ]
    },
    {
      "cell_type": "code",
      "source": [
        "fahrenheit = 100\n",
        "celsius = fahrenheit-32\n",
        "celsius = celsius * 5\n",
        "celsius = celsius/9\n",
        "print(celsius)"
      ],
      "metadata": {
        "id": "s6axtyrkllmV",
        "colab": {
          "base_uri": "https://localhost:8080/"
        },
        "outputId": "dad0ca02-d84f-4582-d2c0-927e3d125692"
      },
      "execution_count": null,
      "outputs": [
        {
          "output_type": "stream",
          "name": "stdout",
          "text": [
            "37.77777777777778\n"
          ]
        }
      ]
    },
    {
      "cell_type": "code",
      "source": [
        "x = 0\n",
        "y = 0\n",
        "x = int(input(\"정수 x를 입력하시오: \"))\n",
        "y = int(input(\"정수 y를 입력하시오: \"))\n",
        "sum = x + y\n",
        "print(sum)"
      ],
      "metadata": {
        "id": "OpZg3iXqlkWs",
        "colab": {
          "base_uri": "https://localhost:8080/"
        },
        "outputId": "5b6f930b-41a7-4c0f-d4f4-2e46ead1244d"
      },
      "execution_count": null,
      "outputs": [
        {
          "output_type": "stream",
          "name": "stdout",
          "text": [
            "정수 x를 입력하시오: 1\n",
            "정수 y를 입력하시오: 2\n",
            "3\n"
          ]
        }
      ]
    },
    {
      "cell_type": "code",
      "source": [
        "price = int(input(\"상품의 가격을 입력하시오: \"))\n",
        "vat = price * 0.1\n",
        "print(vat)"
      ],
      "metadata": {
        "id": "THjN02E5mphG",
        "colab": {
          "base_uri": "https://localhost:8080/"
        },
        "outputId": "66afe758-0bdf-475c-e215-23a45edcd099"
      },
      "execution_count": null,
      "outputs": [
        {
          "output_type": "stream",
          "name": "stdout",
          "text": [
            "상품의 가격을 입력하시오: 5000\n",
            "500.0\n"
          ]
        }
      ]
    },
    {
      "cell_type": "code",
      "source": [
        "age = int(input(\"현재의 나이를 입력하시오.: \"))\n",
        "age = age + 10\n",
        "print(\"10년후면\", age, \" 세가 되시는 군요\")"
      ],
      "metadata": {
        "id": "N1OOBXobnFN7",
        "colab": {
          "base_uri": "https://localhost:8080/"
        },
        "outputId": "0b371b8a-aee5-45e8-b202-35cae354dc54"
      },
      "execution_count": null,
      "outputs": [
        {
          "output_type": "stream",
          "name": "stdout",
          "text": [
            "현재의 나이를 입력하시오.: 20\n",
            "10년후면 30  세가 되시는 군요\n"
          ]
        }
      ]
    },
    {
      "cell_type": "code",
      "source": [
        "print(\"########################\")\n",
        "print(\"# 배송료 계산 프로그램 #\")\n",
        "print(\"########################\")\n",
        "price= int(input(\"상품의 가격을 입력하세요: \"))\n",
        "if price > 2000:\n",
        "     shipping_cost = 0\n",
        "else:\n",
        "    shipping_cost = 3000\n",
        "print(shipping_cost)"
      ],
      "metadata": {
        "id": "kNZpU0hdnmYT",
        "colab": {
          "base_uri": "https://localhost:8080/"
        },
        "outputId": "a7811ca6-2a4e-4241-839c-40517a50604a"
      },
      "execution_count": null,
      "outputs": [
        {
          "output_type": "stream",
          "name": "stdout",
          "text": [
            "########################\n",
            "# 배송료 계산 프로그램 #\n",
            "########################\n",
            "상품의 가격을 입력하세요: 1000\n",
            "3000\n"
          ]
        }
      ]
    },
    {
      "cell_type": "code",
      "source": [
        "print(\"########################\")\n",
        "print(\"# 합격 불합격 프로그램 #\")\n",
        "print(\"########################\")\n",
        "\n",
        "grade = int(input(\"성적을 입력하시오.: \"))\n",
        "if grade >= 60 :\n",
        "    print(\"합격\")\n",
        "else :\n",
        "    print(\"불합격\")"
      ],
      "metadata": {
        "id": "kdsZKnALpiME",
        "colab": {
          "base_uri": "https://localhost:8080/"
        },
        "outputId": "30b89942-595a-44ea-f101-00095a8a30d5"
      },
      "execution_count": null,
      "outputs": [
        {
          "output_type": "stream",
          "name": "stdout",
          "text": [
            "########################\n",
            "# 합격 불합격 프로그램 #\n",
            "########################\n",
            "성적을 입력하시오.: 65\n",
            "합격\n"
          ]
        }
      ]
    },
    {
      "cell_type": "code",
      "source": [
        "print(\"근무 시간을 입력하시오\")\n",
        "work_hour=int(input(\"근무시간 입력:  \"))\n",
        "\n",
        "if work_hour > 72 :\n",
        "  print(\"초과근무 하셨습니다.\")\n",
        "else:\n",
        "    print(\"정상근무하셨습니다.\")"
      ],
      "metadata": {
        "id": "zsvNOLetsL86",
        "colab": {
          "base_uri": "https://localhost:8080/"
        },
        "outputId": "6b15c54a-e878-49fb-f56a-7ebdb50e2fc6"
      },
      "execution_count": null,
      "outputs": [
        {
          "output_type": "stream",
          "name": "stdout",
          "text": [
            "근무 시간을 입력하시오\n",
            "근무시간 입력:  72\n",
            "정상근무하셨습니다.\n"
          ]
        }
      ]
    },
    {
      "cell_type": "code",
      "source": [
        "print(\"########################\")\n",
        "print(\"# 짝수와 홀수 판별 앱 #\")\n",
        "print(\"########################\")\n",
        "\n",
        "x = int(input(\"x값 정수를 입력하시오: \"))\n",
        "if (x % 2) !=  0 :\n",
        "     print(\"홀수입니다.\")\n",
        "else:\n",
        "     print(\"짝수입니다.\")"
      ],
      "metadata": {
        "id": "1RCzlpf2tCay",
        "colab": {
          "base_uri": "https://localhost:8080/"
        },
        "outputId": "2f99c1a7-fbfe-4765-9c2c-6922358edcb2"
      },
      "execution_count": null,
      "outputs": [
        {
          "output_type": "stream",
          "name": "stdout",
          "text": [
            "########################\n",
            "# 짝수와 홀수 판별 앱 #\n",
            "########################\n",
            "x값 정수를 입력하시오: 3\n",
            "홀수입니다.\n"
          ]
        }
      ]
    },
    {
      "cell_type": "code",
      "source": [
        "print(\"정수를 입력하시오.\")\n",
        "x= int(input(\"정수값 x를 입력하시오.:  \"))\n",
        "y= int(input(\"정수값 y를 입력하시오.:  \"))\n",
        "if x > y :\n",
        "     print(x)\n",
        "else:\n",
        "     print(y)"
      ],
      "metadata": {
        "id": "2HjM7Ex7t35N",
        "colab": {
          "base_uri": "https://localhost:8080/"
        },
        "outputId": "b0d6a80c-fc35-4c64-f76b-d30d0590e782"
      },
      "execution_count": null,
      "outputs": [
        {
          "output_type": "stream",
          "name": "stdout",
          "text": [
            "정수를 입력하시오.\n",
            "정수값 x를 입력하시오.:  5\n",
            "정수값 y를 입력하시오.:  7\n",
            "7\n"
          ]
        }
      ]
    },
    {
      "cell_type": "code",
      "source": [
        "print(\"########################\")\n",
        "print(\"# 이름, 나이, 답변 앱 #\")\n",
        "print(\"########################\")\n",
        "\n",
        "yu_name = str(input(\"이름: \"))\n",
        "yu_age = int(input(\"나이: \"))\n",
        "\n",
        "if yu_age <= 25 :\n",
        "    print(\"와우!!! 프로그래밍을 완벽하게 배울수 있는 나이입니다.!\")\n",
        "else:\n",
        "     print(\"포기하기에는 아직 늦지 않았습니다.\")\n",
        "print(\"\\n\")"
      ],
      "metadata": {
        "id": "596a1upiuuHB",
        "colab": {
          "base_uri": "https://localhost:8080/"
        },
        "outputId": "6620e8b9-aa93-4dcd-dc92-02e91b9a2643"
      },
      "execution_count": null,
      "outputs": [
        {
          "output_type": "stream",
          "name": "stdout",
          "text": [
            "########################\n",
            "# 이름, 나이, 답변 앱 #\n",
            "########################\n",
            "이름: 노서원\n",
            "나이: 27\n",
            "포기하기에는 아직 늦지 않았습니다.\n",
            "\n",
            "\n"
          ]
        }
      ]
    },
    {
      "cell_type": "code",
      "source": [
        "price = int(input(\"상품의 가격을 입력하세요.: \"))\n",
        "\n",
        "if price > 100000:\n",
        "      shipping_cost = 0\n",
        "else:\n",
        "    if price > 2000:\n",
        "         shipping_cost = 3000\n",
        "    else:\n",
        "         shipping_cost = 5000\n",
        "\n",
        "print(\"배송료는\", shipping_cost, \"입니다.\")"
      ],
      "metadata": {
        "id": "zM13IzilwWvQ",
        "colab": {
          "base_uri": "https://localhost:8080/"
        },
        "outputId": "ff682abe-5fb8-4a19-9f40-ea95c896ef2a"
      },
      "execution_count": null,
      "outputs": [
        {
          "output_type": "stream",
          "name": "stdout",
          "text": [
            "상품의 가격을 입력하세요.: 3000\n",
            "배송료는 3000 입니다.\n"
          ]
        }
      ]
    }
  ]
}