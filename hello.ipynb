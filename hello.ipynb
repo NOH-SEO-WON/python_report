{
  "nbformat": 4,
  "nbformat_minor": 0,
  "metadata": {
    "colab": {
      "name": "hello.ipynb",
      "provenance": [],
      "collapsed_sections": [],
      "authorship_tag": "ABX9TyPAAEfyMt/VS6NIABNaTmfN",
      "include_colab_link": true
    },
    "kernelspec": {
      "name": "python3",
      "display_name": "Python 3"
    },
    "language_info": {
      "name": "python"
    }
  },
  "cells": [
    {
      "cell_type": "markdown",
      "metadata": {
        "id": "view-in-github",
        "colab_type": "text"
      },
      "source": [
        "<a href=\"https://colab.research.google.com/github/NOH-SEO-WON/python_report/blob/main/hello.ipynb\" target=\"_parent\"><img src=\"https://colab.research.google.com/assets/colab-badge.svg\" alt=\"Open In Colab\"/></a>"
      ]
    },
    {
      "cell_type": "code",
      "source": [
        "print(\"Hello World!\")"
      ],
      "metadata": {
        "id": "z3lxbiFRt5Du",
        "colab": {
          "base_uri": "https://localhost:8080/"
        },
        "outputId": "5241ba3c-24fb-467b-b791-edd43310beea"
      },
      "execution_count": 2,
      "outputs": [
        {
          "output_type": "stream",
          "name": "stdout",
          "text": [
            "Hello World!\n"
          ]
        }
      ]
    },
    {
      "cell_type": "code",
      "source": [
        "x = 1\n",
        "y = 2\n",
        "print(x)\n",
        "print(y)\n",
        "print(x,y)\n",
        "\n",
        "z = \"안녕\"\n",
        "print(z)"
      ],
      "metadata": {
        "id": "5VDV9RkkuFbV",
        "colab": {
          "base_uri": "https://localhost:8080/"
        },
        "outputId": "024459f1-d215-492c-c45b-4137be81028f"
      },
      "execution_count": 1,
      "outputs": [
        {
          "output_type": "stream",
          "name": "stdout",
          "text": [
            "1\n",
            "2\n",
            "1 2\n",
            "안녕\n"
          ]
        }
      ]
    },
    {
      "cell_type": "code",
      "source": [
        "x = 5\n",
        "y = 3\n",
        "\n",
        "z = 1.2\n",
        "\n",
        "print(\"1)\", x+y+z)\n",
        "print(\"2)\", x-y-z)\n",
        "print(\"3)\", x*y*z, \"\\n\")\n",
        "print(\"4)\", x%y%z)\n",
        "\n",
        "print(\"5)\", x**y**z)\n",
        "print(\"5)\", (x**y)**z)\n",
        "print(\"6)\", x**y)"
      ],
      "metadata": {
        "id": "bblGk2WhvbR_",
        "colab": {
          "base_uri": "https://localhost:8080/"
        },
        "outputId": "f7c2d6b2-d51f-41fd-c36b-e323d0c5182c"
      },
      "execution_count": 3,
      "outputs": [
        {
          "output_type": "stream",
          "name": "stdout",
          "text": [
            "1) 9.2\n",
            "2) 0.8\n",
            "3) 18.0 \n",
            "\n",
            "4) 0.8\n",
            "5) 409.4356748283245\n",
            "5) 328.31597555047085\n",
            "6) 125\n"
          ]
        }
      ]
    },
    {
      "cell_type": "code",
      "source": [
        "x = \"Hello\"\n",
        "y = 'Bye'\n",
        "z = \"\"\"안녕하세요.\n",
        "저는 22학번 새내기 입니다\"\"\"\n",
        "\n",
        "print(x)\n",
        "print(y)\n",
        "print(z)\n",
        "print(\"\\n\")\n",
        "print(x+y+z)\n",
        "print(\"\\n\")\n",
        "print(z)"
      ],
      "metadata": {
        "id": "ZSH7sMCTyAO0",
        "colab": {
          "base_uri": "https://localhost:8080/"
        },
        "outputId": "88165f20-3244-48c2-d684-a1235b1c060c"
      },
      "execution_count": 4,
      "outputs": [
        {
          "output_type": "stream",
          "name": "stdout",
          "text": [
            "Hello\n",
            "Bye\n",
            "안녕하세요.\n",
            "저는 22학번 새내기 입니다\n",
            "\n",
            "\n",
            "HelloBye안녕하세요.\n",
            "저는 22학번 새내기 입니다\n",
            "\n",
            "\n",
            "안녕하세요.\n",
            "저는 22학번 새내기 입니다\n"
          ]
        }
      ]
    }
  ]
}